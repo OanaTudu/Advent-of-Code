{
 "cells": [
  {
   "cell_type": "markdown",
   "metadata": {},
   "source": [
    "The gravity assist was successful, and you're well on your way to the Venus refuelling station. During the rush back on Earth, the fuel management system wasn't completely installed, so that's next on the priority list.\n",
    "\n",
    "Opening the front panel reveals a jumble of wires. Specifically, two wires are connected to a central port and extend outward on a grid. You trace the path each wire takes as it leaves the central port, one wire per line of text (your puzzle input).\n",
    "\n",
    "The wires twist and turn, but the two wires occasionally cross paths. To fix the circuit, you need to find the intersection point closest to the central port. Because the wires are on a grid, use the Manhattan distance for this measurement. While the wires do technically cross right at the central port where they both start, this point does not count, nor does a wire count as crossing with itself.\n",
    "\n",
    "For example, if the first wire's path is R8,U5,L5,D3, then starting from the central port (o), it goes right 8, up 5, left 5, and finally down 3:\n",
    "\n",
    "...........\n",
    "...........\n",
    "...........\n",
    "....+----+.\n",
    "....|....|.\n",
    "....|....|.\n",
    "....|....|.\n",
    ".........|.\n",
    ".o-------+.\n",
    "...........\n",
    "\n",
    "Then, if the second wire's path is U7,R6,D4,L4, it goes up 7, right 6, down 4, and left 4:\n",
    "\n",
    "...........\n",
    ".+-----+...\n",
    ".|.....|...\n",
    ".|..+--X-+.\n",
    ".|..|..|.|.\n",
    ".|.-X--+.|.\n",
    ".|..|....|.\n",
    ".|.......|.\n",
    ".o-------+.\n",
    "...........\n",
    "\n",
    "These wires cross at two locations (marked X), but the lower-left one is closer to the central port: its distance is 3 + 3 = 6.\n",
    "\n",
    "Here are a few more examples:\n",
    "\n",
    "    R75,D30,R83,U83,L12,D49,R71,U7,L72\n",
    "    U62,R66,U55,R34,D71,R55,D58,R83 = distance 159\n",
    "    R98,U47,R26,D63,R33,U87,L62,D20,R33,U53,R51\n",
    "    U98,R91,D20,R16,D67,R40,U7,R15,U6,R7 = distance 135\n",
    "\n",
    "What is the Manhattan distance from the central port to the closest intersection?"
   ]
  },
  {
   "cell_type": "code",
   "execution_count": 10,
   "metadata": {},
   "outputs": [],
   "source": [
    "import pandas as pd\n",
    "df = pd.read_fwf('input3.txt', names = 'v')"
   ]
  },
  {
   "cell_type": "code",
   "execution_count": 55,
   "metadata": {},
   "outputs": [],
   "source": [
    "df.head()\n",
    "#cable1 = df.loc[0]\n",
    "cable1 = [s for s in df.loc[0].v[:].split(',')]\n",
    "cable2 = [s for s in df.loc[1].v[:].split(',')]\n",
    "#print(cable1)"
   ]
  },
  {
   "cell_type": "code",
   "execution_count": 58,
   "metadata": {},
   "outputs": [],
   "source": [
    "def construct_path(step_list):\n",
    "    cable_path_x = [0]\n",
    "    cable_path_y = [0]\n",
    "   \n",
    "    for step in step_list:\n",
    "        last_point_x = cable_path_x[-1]\n",
    "        last_point_y = cable_path_y[-1]\n",
    "        \n",
    "        if step[0] == 'R':\n",
    "            #increase x by number after R, keep y constant\n",
    "            local_path_x = [el + 1 + last_point_x for el in list(range(int(step[1:])))]\n",
    "            local_path_y = [last_point_y] * len(local_path_x)\n",
    "            \n",
    "        elif step[0] == 'U':\n",
    "            #increase y by number after U, keep x constant\n",
    "            local_path_y = [el + 1 + last_point_y for el in list(range(int(step[1:])))]\n",
    "            local_path_x = [last_point_x] * len(local_path_y)\n",
    "        elif step[0] == 'L':\n",
    "            #decrease x by number after L, keep y constant\n",
    "            local_path_x = [- el - 1 + last_point_x for el in list(range(int(step[1:])))]\n",
    "            local_path_y = [last_point_y] * len(local_path_x)\n",
    "        elif step[0] == 'D':\n",
    "            #decrease y by number after D, keep x constant\n",
    "            local_path_y = [- el - 1 + last_point_y for el in list(range(int(step[1:])))]\n",
    "            local_path_x = [last_point_x] * len(local_path_y)\n",
    "        else:\n",
    "            print('something is not right, this character should be one of the 4 options')\n",
    "        cable_path_x.extend(local_path_x)\n",
    "        cable_path_y.extend(local_path_y)\n",
    "        #print(cable_path_x)\n",
    "    return cable_path_x, cable_path_y"
   ]
  },
  {
   "cell_type": "code",
   "execution_count": 56,
   "metadata": {},
   "outputs": [],
   "source": [
    "test1 = ['R75','D30','R83','U83','L12','D49','R71','U7','L72']\n",
    "test2 = ['R8','U5','L5','D3']"
   ]
  },
  {
   "cell_type": "code",
   "execution_count": 60,
   "metadata": {},
   "outputs": [
    {
     "name": "stdout",
     "output_type": "stream",
     "text": [
      "6305 -5036 -2542 5169\n"
     ]
    }
   ],
   "source": [
    "x1, y1 = construct_path(cable1)\n",
    "x2, y2 = construct_path(cable2)\n",
    "print(x1[-1], y1[-1], x2[-1], y2[-1])\n"
   ]
  },
  {
   "cell_type": "code",
   "execution_count": null,
   "metadata": {},
   "outputs": [],
   "source": [
    "def find_wire_cross(c1_x, c1_y, c2_x, c2_y):\n",
    "    for x1 in c1_x:\n",
    "        "
   ]
  }
 ],
 "metadata": {
  "kernelspec": {
   "display_name": "Python 3",
   "language": "python",
   "name": "python3"
  },
  "language_info": {
   "codemirror_mode": {
    "name": "ipython",
    "version": 3
   },
   "file_extension": ".py",
   "mimetype": "text/x-python",
   "name": "python",
   "nbconvert_exporter": "python",
   "pygments_lexer": "ipython3",
   "version": "3.6.8"
  }
 },
 "nbformat": 4,
 "nbformat_minor": 2
}
