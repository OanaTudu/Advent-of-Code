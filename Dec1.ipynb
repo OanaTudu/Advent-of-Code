{
 "cells": [
  {
   "cell_type": "markdown",
   "metadata": {},
   "source": [
    "The Elves quickly load you into a spacecraft and prepare to launch.\n",
    "\n",
    "At the first Go / No Go poll, every Elf is Go until the Fuel Counter-Upper. They haven't determined the amount of fuel required yet.\n",
    "\n",
    "Fuel required to launch a given module is based on its mass. Specifically, to find the fuel required for a module, take its mass, divide by three, round down, and subtract 2.\n",
    "\n",
    "For example:\n",
    "\n",
    "    For a mass of 12, divide by 3 and round down to get 4, then subtract 2 to get 2.\n",
    "    For a mass of 14, dividing by 3 and rounding down still yields 4, so the fuel required is also 2.\n",
    "    For a mass of 1969, the fuel required is 654.\n",
    "    For a mass of 100756, the fuel required is 33583.\n",
    "\n",
    "The Fuel Counter-Upper needs to know the total fuel requirement. To find it, individually calculate the fuel needed for the mass of each module (your puzzle input), then add together all the fuel values.\n",
    "\n",
    "What is the sum of the fuel requirements for all of the modules on your spacecraft?"
   ]
  },
  {
   "cell_type": "code",
   "execution_count": 11,
   "metadata": {},
   "outputs": [],
   "source": [
    "import pandas as pd\n",
    "import math\n",
    "df = pd.read_fwf('../input.txt', header = None, names = ['input_vals'])"
   ]
  },
  {
   "cell_type": "code",
   "execution_count": 12,
   "metadata": {},
   "outputs": [
    {
     "data": {
      "text/html": [
       "<div>\n",
       "<style scoped>\n",
       "    .dataframe tbody tr th:only-of-type {\n",
       "        vertical-align: middle;\n",
       "    }\n",
       "\n",
       "    .dataframe tbody tr th {\n",
       "        vertical-align: top;\n",
       "    }\n",
       "\n",
       "    .dataframe thead th {\n",
       "        text-align: right;\n",
       "    }\n",
       "</style>\n",
       "<table border=\"1\" class=\"dataframe\">\n",
       "  <thead>\n",
       "    <tr style=\"text-align: right;\">\n",
       "      <th></th>\n",
       "      <th>input_vals</th>\n",
       "    </tr>\n",
       "  </thead>\n",
       "  <tbody>\n",
       "    <tr>\n",
       "      <th>0</th>\n",
       "      <td>80228</td>\n",
       "    </tr>\n",
       "    <tr>\n",
       "      <th>1</th>\n",
       "      <td>76027</td>\n",
       "    </tr>\n",
       "    <tr>\n",
       "      <th>2</th>\n",
       "      <td>101696</td>\n",
       "    </tr>\n",
       "    <tr>\n",
       "      <th>3</th>\n",
       "      <td>66033</td>\n",
       "    </tr>\n",
       "    <tr>\n",
       "      <th>4</th>\n",
       "      <td>127249</td>\n",
       "    </tr>\n",
       "  </tbody>\n",
       "</table>\n",
       "</div>"
      ],
      "text/plain": [
       "   input_vals\n",
       "0       80228\n",
       "1       76027\n",
       "2      101696\n",
       "3       66033\n",
       "4      127249"
      ]
     },
     "execution_count": 12,
     "metadata": {},
     "output_type": "execute_result"
    }
   ],
   "source": [
    "df.head()"
   ]
  },
  {
   "cell_type": "code",
   "execution_count": 16,
   "metadata": {},
   "outputs": [],
   "source": [
    "total_fuel = 0\n",
    "module_fuel = []\n",
    "for mass in df.input_vals:\n",
    "    fuel = math.floor(mass/3) - 2\n",
    "    total_fuel += fuel\n",
    "    module_fuel.append(fuel)\n",
    "    "
   ]
  },
  {
   "cell_type": "code",
   "execution_count": 17,
   "metadata": {},
   "outputs": [
    {
     "data": {
      "text/plain": [
       "3502510"
      ]
     },
     "execution_count": 17,
     "metadata": {},
     "output_type": "execute_result"
    }
   ],
   "source": [
    "total_fuel"
   ]
  },
  {
   "cell_type": "markdown",
   "metadata": {},
   "source": [
    "During the second Go / No Go poll, the Elf in charge of the Rocket Equation Double-Checker stops the launch sequence. Apparently, you forgot to include additional fuel for the fuel you just added.\n",
    "\n",
    "Fuel itself requires fuel just like a module - take its mass, divide by three, round down, and subtract 2. However, that fuel also requires fuel, and that fuel requires fuel, and so on. Any mass that would require negative fuel should instead be treated as if it requires zero fuel; the remaining mass, if any, is instead handled by wishing really hard, which has no mass and is outside the scope of this calculation.\n",
    "\n",
    "So, for each module mass, calculate its fuel and add it to the total. Then, treat the fuel amount you just calculated as the input mass and repeat the process, continuing until a fuel requirement is zero or negative. For example:\n",
    "\n",
    "    A module of mass 14 requires 2 fuel. This fuel requires no further fuel (2 divided by 3 and rounded down is 0, which would call for a negative fuel), so the total fuel required is still just 2.\n",
    "    At first, a module of mass 1969 requires 654 fuel. Then, this fuel requires 216 more fuel (654 / 3 - 2). 216 then requires 70 more fuel, which requires 21 fuel, which requires 5 fuel, which requires no further fuel. So, the total fuel required for a module of mass 1969 is 654 + 216 + 70 + 21 + 5 = 966.\n",
    "    The fuel required by a module of mass 100756 and its fuel is: 33583 + 11192 + 3728 + 1240 + 411 + 135 + 43 + 12 + 2 = 50346.\n",
    "\n",
    "What is the sum of the fuel requirements for all of the modules on your spacecraft when also taking into account the mass of the added fuel? (Calculate the fuel requirements for each module separately, then add them all up at the end.)\n",
    "\n"
   ]
  },
  {
   "cell_type": "code",
   "execution_count": 41,
   "metadata": {},
   "outputs": [],
   "source": [
    "module_fuel[:5]\n",
    "test = [1969, 100756]"
   ]
  },
  {
   "cell_type": "code",
   "execution_count": 42,
   "metadata": {},
   "outputs": [],
   "source": [
    "total_fuel_fuel = 0\n",
    "fuel_input_fuel = []\n",
    "for mass_f in module_fuel:\n",
    "    mass_f_fuel = 0\n",
    "    fuel_for_fuel = mass_f\n",
    "    while fuel_for_fuel > 2:\n",
    "        fuel_for_fuel = math.floor(fuel_for_fuel/3) - 2\n",
    "        mass_f_fuel += fuel_for_fuel\n",
    "    total_fuel_fuel += mass_f_fuel\n",
    "    fuel_input_fuel.append(mass_f_fuel)\n"
   ]
  },
  {
   "cell_type": "code",
   "execution_count": 43,
   "metadata": {},
   "outputs": [
    {
     "data": {
      "text/plain": [
       "51311"
      ]
     },
     "execution_count": 43,
     "metadata": {},
     "output_type": "execute_result"
    }
   ],
   "source": [
    "total_fuel_fuel"
   ]
  },
  {
   "cell_type": "code",
   "execution_count": 39,
   "metadata": {},
   "outputs": [
    {
     "data": {
      "text/plain": [
       "5250843"
      ]
     },
     "execution_count": 39,
     "metadata": {},
     "output_type": "execute_result"
    }
   ],
   "source": [
    "total_fuel_fuel + total_fuel"
   ]
  },
  {
   "cell_type": "code",
   "execution_count": 40,
   "metadata": {},
   "outputs": [
    {
     "data": {
      "text/plain": [
       "[13343,\n",
       " 12640,\n",
       " 16919,\n",
       " 10977,\n",
       " 21178,\n",
       " 17396,\n",
       " 14797,\n",
       " 13728,\n",
       " 21858,\n",
       " 10399,\n",
       " 21624,\n",
       " 23097,\n",
       " 20305,\n",
       " 13788,\n",
       " 13865,\n",
       " 9400,\n",
       " 14219,\n",
       " 18368,\n",
       " 14488,\n",
       " 24256,\n",
       " 14520,\n",
       " 19366,\n",
       " 24176,\n",
       " 19745,\n",
       " 15408,\n",
       " 14329,\n",
       " 13481,\n",
       " 16434,\n",
       " 18294,\n",
       " 21114,\n",
       " 21808,\n",
       " 22396,\n",
       " 16273,\n",
       " 20614,\n",
       " 17621,\n",
       " 9990,\n",
       " 16675,\n",
       " 16811,\n",
       " 11794,\n",
       " 18453,\n",
       " 11933,\n",
       " 13393,\n",
       " 24082,\n",
       " 16693,\n",
       " 21647,\n",
       " 9238,\n",
       " 15466,\n",
       " 22637,\n",
       " 21074,\n",
       " 12820,\n",
       " 19640,\n",
       " 24705,\n",
       " 10359,\n",
       " 9346,\n",
       " 22219,\n",
       " 11523,\n",
       " 20886,\n",
       " 20323,\n",
       " 9450,\n",
       " 21223,\n",
       " 15669,\n",
       " 10683,\n",
       " 13331,\n",
       " 13846,\n",
       " 16055,\n",
       " 14583,\n",
       " 23656,\n",
       " 23788,\n",
       " 24682,\n",
       " 18215,\n",
       " 13195,\n",
       " 24679,\n",
       " 17407,\n",
       " 18246,\n",
       " 14341,\n",
       " 18537,\n",
       " 24081,\n",
       " 15204,\n",
       " 23441,\n",
       " 23066,\n",
       " 19603,\n",
       " 19019,\n",
       " 21047,\n",
       " 16652,\n",
       " 13097,\n",
       " 15335,\n",
       " 14965,\n",
       " 21447,\n",
       " 21317,\n",
       " 21624,\n",
       " 10645,\n",
       " 11964,\n",
       " 18553,\n",
       " 23928,\n",
       " 24911,\n",
       " 24318,\n",
       " 8748,\n",
       " 21667,\n",
       " 18137,\n",
       " 20047]"
      ]
     },
     "execution_count": 40,
     "metadata": {},
     "output_type": "execute_result"
    }
   ],
   "source": [
    "fuel_input_fuel"
   ]
  },
  {
   "cell_type": "code",
   "execution_count": null,
   "metadata": {},
   "outputs": [],
   "source": []
  }
 ],
 "metadata": {
  "kernelspec": {
   "display_name": "Python 3",
   "language": "python",
   "name": "python3"
  },
  "language_info": {
   "codemirror_mode": {
    "name": "ipython",
    "version": 3
   },
   "file_extension": ".py",
   "mimetype": "text/x-python",
   "name": "python",
   "nbconvert_exporter": "python",
   "pygments_lexer": "ipython3",
   "version": "3.6.8"
  }
 },
 "nbformat": 4,
 "nbformat_minor": 2
}
