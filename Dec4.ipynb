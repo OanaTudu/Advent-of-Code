{
 "cells": [
  {
   "cell_type": "markdown",
   "metadata": {},
   "source": [
    "You arrive at the Venus fuel depot only to discover it's protected by a password. The Elves had written the password on a sticky note, but someone threw it out.\n",
    "\n",
    "However, they do remember a few key facts about the password:\n",
    "\n",
    "    It is a six-digit number.\n",
    "    The value is within the range given in your puzzle input.\n",
    "    Two adjacent digits are the same (like 22 in 122345).\n",
    "    Going from left to right, the digits never decrease; they only ever increase or stay the same (like 111123 or 135679).\n",
    "\n",
    "Other than the range rule, the following are true:\n",
    "\n",
    "    111111 meets these criteria (double 11, never decreases).\n",
    "    223450 does not meet these criteria (decreasing pair of digits 50).\n",
    "    123789 does not meet these criteria (no double).\n",
    "\n",
    "How many different passwords within the range given in your puzzle input meet these criteria?\n",
    "\n",
    "Your puzzle input is 109165-576723."
   ]
  },
  {
   "cell_type": "code",
   "execution_count": 4,
   "metadata": {},
   "outputs": [
    {
     "name": "stdout",
     "output_type": "stream",
     "text": [
      "2814\n"
     ]
    }
   ],
   "source": [
    "def has_adjacent_duplicate(digit_list):\n",
    "    \n",
    "    for i in range(len(digit_list)):\n",
    "        for j in range(i+1, len(digit_list)):\n",
    "            if digit_list[i] == digit_list[j]:\n",
    "                return True\n",
    "    return False\n",
    "\n",
    "#make a list with all the keepers:\n",
    "keepers = []\n",
    "for pwd in range(109165, 576723):\n",
    "    digits = [int(d) for d in str(pwd)]\n",
    "    if digits == sorted(digits) and has_adjacent_duplicate(digits):\n",
    "        #print(pwd)\n",
    "        keepers.append(pwd)\n",
    "        \n",
    "print(len(keepers))        \n",
    "                "
   ]
  },
  {
   "cell_type": "markdown",
   "metadata": {},
   "source": [
    "--- Part Two ---\n",
    "\n",
    "An Elf just remembered one more important detail: the two adjacent matching digits are not part of a larger group of matching digits.\n",
    "\n",
    "Given this additional criterion, but still ignoring the range rule, the following are now true:\n",
    "\n",
    "    112233 meets these criteria because the digits never decrease and all repeated digits are exactly two digits long.\n",
    "    123444 no longer meets the criteria (the repeated 44 is part of a larger group of 444).\n",
    "    111122 meets the criteria (even though 1 is repeated more than twice, it still contains a double 22).\n",
    "\n",
    "How many different passwords within the range given in your puzzle input meet all of the criteria?\n",
    "\n"
   ]
  },
  {
   "cell_type": "code",
   "execution_count": 11,
   "metadata": {},
   "outputs": [
    {
     "name": "stdout",
     "output_type": "stream",
     "text": [
      "1991\n"
     ]
    }
   ],
   "source": [
    "#From the list obrained in step one, count number of repeats in each password, and if there is at least one element present twice, keep it. \n",
    "\n",
    "final_keepers = []\n",
    "for pwd in keepers:\n",
    "    digits = [int(d) for d in str(pwd)]\n",
    "    el_counts = [digits.count(x) for x in set(digits)]\n",
    "    #print(el_counts)\n",
    "    if el_counts.count(2) > 0:\n",
    "        #print(pwd)\n",
    "        final_keepers.append(pwd)\n",
    "print(len(final_keepers))"
   ]
  },
  {
   "cell_type": "code",
   "execution_count": null,
   "metadata": {},
   "outputs": [],
   "source": []
  }
 ],
 "metadata": {
  "kernelspec": {
   "display_name": "Python 3",
   "language": "python",
   "name": "python3"
  },
  "language_info": {
   "codemirror_mode": {
    "name": "ipython",
    "version": 3
   },
   "file_extension": ".py",
   "mimetype": "text/x-python",
   "name": "python",
   "nbconvert_exporter": "python",
   "pygments_lexer": "ipython3",
   "version": "3.6.8"
  }
 },
 "nbformat": 4,
 "nbformat_minor": 2
}
