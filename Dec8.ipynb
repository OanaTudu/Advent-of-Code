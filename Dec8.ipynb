{
 "cells": [
  {
   "cell_type": "raw",
   "metadata": {},
   "source": [
    "--- Day 8: Space Image Format ---\n",
    "\n",
    "The Elves' spirits are lifted when they realize you have an opportunity to reboot one of their Mars rovers, and so they are curious if you would spend a brief sojourn on Mars. You land your ship near the rover.\n",
    "\n",
    "When you reach the rover, you discover that it's already in the process of rebooting! It's just waiting for someone to enter a BIOS password. The Elf responsible for the rover takes a picture of the password (your puzzle input) and sends it to you via the Digital Sending Network.\n",
    "\n",
    "Unfortunately, images sent via the Digital Sending Network aren't encoded with any normal encoding; instead, they're encoded in a special Space Image Format. None of the Elves seem to remember why this is the case. They send you the instructions to decode it.\n",
    "\n",
    "Images are sent as a series of digits that each represent the color of a single pixel. The digits fill each row of the image left-to-right, then move downward to the next row, filling rows top-to-bottom until every pixel of the image is filled.\n",
    "\n",
    "Each image actually consists of a series of identically-sized layers that are filled in this way. So, the first digit corresponds to the top-left pixel of the first layer, the second digit corresponds to the pixel to the right of that on the same layer, and so on until the last digit, which corresponds to the bottom-right pixel of the last layer.\n",
    "\n",
    "For example, given an image 3 pixels wide and 2 pixels tall, the image data 123456789012 corresponds to the following image layers:\n",
    "\n",
    "Layer 1: 123\n",
    "         456\n",
    "\n",
    "Layer 2: 789\n",
    "         012\n",
    "\n",
    "The image you received is 25 pixels wide and 6 pixels tall.\n",
    "\n",
    "To make sure the image wasn't corrupted during transmission, the Elves would like you to find the layer that contains the fewest 0 digits. On that layer, what is the number of 1 digits multiplied by the number of 2 digits?\n"
   ]
  },
  {
   "cell_type": "code",
   "execution_count": 42,
   "metadata": {},
   "outputs": [],
   "source": [
    "import numpy as np\n",
    "from collections import Counter"
   ]
  },
  {
   "cell_type": "code",
   "execution_count": 43,
   "metadata": {},
   "outputs": [],
   "source": [
    "with open('input8.txt', 'r') as f:\n",
    "    x = f.readlines()\n",
    "#print(x)\n",
    "input_vals = [int(i) for i in x[0].split(',')]\n",
    "#print(input_vals)"
   ]
  },
  {
   "cell_type": "code",
   "execution_count": 48,
   "metadata": {},
   "outputs": [],
   "source": [
    "def count_vals(mat):\n",
    "    ones = 0\n",
    "    zeros = 0\n",
    "    twos = 0\n",
    "    for row in mat:\n",
    "        d = Counter(row)\n",
    "        for key in d.keys():\n",
    "            if key == 1:\n",
    "                ones += d[key]\n",
    "            elif key == 0:\n",
    "                zeros += d[key]\n",
    "            elif key == 2:\n",
    "                twos += d[key]\n",
    "            else:\n",
    "                print('Unknown symbols in image')\n",
    "    return zeros, ones * twos\n",
    "        "
   ]
  },
  {
   "cell_type": "code",
   "execution_count": 60,
   "metadata": {},
   "outputs": [],
   "source": [
    "inp_pix = [int(x) for x in str(input_vals[0])]\n",
    "i = 0\n",
    "k = 0\n",
    "img_layer = []\n",
    "vals_z = []\n",
    "vals_m = []\n",
    "image = []\n",
    "width = 25\n",
    "height = 6\n",
    "while i < len(inp_pix):\n",
    "    img_layer.append(inp_pix[i:i+width])\n",
    "    i += width\n",
    "    k += 1\n",
    "    if not k%6 and k > 0:\n",
    "        image.append(img_layer)\n",
    "        vals_z.append(count_vals(img_layer)[0])\n",
    "        vals_m.append(count_vals(img_layer)[1])\n",
    "        #print(count_vals(img_layer))\n",
    "        img_layer = []\n",
    "\n",
    "#print(image)"
   ]
  },
  {
   "cell_type": "code",
   "execution_count": 61,
   "metadata": {},
   "outputs": [
    {
     "name": "stdout",
     "output_type": "stream",
     "text": [
      "1340\n"
     ]
    }
   ],
   "source": [
    "minpos = vals_z.index(min(vals_z))\n",
    "print(vals_m[minpos])\n",
    "    "
   ]
  },
  {
   "cell_type": "raw",
   "metadata": {},
   "source": [
    "--- Part Two ---\n",
    "\n",
    "Now you're ready to decode the image. The image is rendered by stacking the layers and aligning the pixels with the same positions in each layer. The digits indicate the color of the corresponding pixel: 0 is black, 1 is white, and 2 is transparent.\n",
    "\n",
    "The layers are rendered with the first layer in front and the last layer in back. So, if a given position has a transparent pixel in the first and second layers, a black pixel in the third layer, and a white pixel in the fourth layer, the final image would have a black pixel at that position.\n",
    "\n",
    "For example, given an image 2 pixels wide and 2 pixels tall, the image data 0222112222120000 corresponds to the following image layers:\n",
    "\n",
    "Layer 1: 02\n",
    "         22\n",
    "\n",
    "Layer 2: 11\n",
    "         22\n",
    "\n",
    "Layer 3: 22\n",
    "         12\n",
    "\n",
    "Layer 4: 00\n",
    "         00\n",
    "\n",
    "Then, the full image can be found by determining the top visible pixel in each position:\n",
    "\n",
    "    The top-left pixel is black because the top layer is 0.\n",
    "    The top-right pixel is white because the top layer is 2 (transparent), but the second layer is 1.\n",
    "    The bottom-left pixel is white because the top two layers are 2, but the third layer is 1.\n",
    "    The bottom-right pixel is black because the only visible pixel in that position is 0 (from layer 4).\n",
    "\n",
    "So, the final image looks like this:\n",
    "\n",
    "01\n",
    "10\n",
    "\n",
    "What message is produced after decoding your image?\n"
   ]
  },
  {
   "cell_type": "code",
   "execution_count": 82,
   "metadata": {},
   "outputs": [
    {
     "name": "stdout",
     "output_type": "stream",
     "text": [
      "6\n",
      "[[0 0 0 0 0 0 0 0 0 0 0 0 0 0 0 0 0 0 0 0 0 0 0 0 0]\n",
      " [0 0 0 0 0 0 0 0 0 0 0 0 0 0 0 0 0 0 0 0 0 0 0 0 0]\n",
      " [0 0 0 0 0 0 0 0 0 0 0 0 0 0 0 0 0 0 0 0 0 0 0 0 0]\n",
      " [0 0 0 0 0 0 0 0 0 0 0 0 0 0 0 0 0 0 0 0 0 0 0 0 0]\n",
      " [0 0 0 0 0 0 0 0 0 0 0 0 0 0 0 0 0 0 0 0 0 0 0 0 0]\n",
      " [0 0 0 0 0 0 0 0 0 0 0 0 0 0 0 0 0 0 0 0 0 0 0 0 0]]\n"
     ]
    }
   ],
   "source": [
    "final_image = np.zeros((len(final_image),len(final_image[0])), dtype=int)\n",
    "print(len(final_image))\n",
    "flag = np.zeros((len(final_image),len(final_image[0])), dtype=int)\n",
    "#flag[5,5] = 1\n",
    "print(flag)\n"
   ]
  },
  {
   "cell_type": "code",
   "execution_count": 97,
   "metadata": {},
   "outputs": [
    {
     "name": "stdout",
     "output_type": "stream",
     "text": [
      "[[1 0 0 0 0 1 1 1 1 0 0 0 1 1 0 1 0 0 1 0 0 1 1 0 0]\n",
      " [1 0 0 0 0 1 0 0 0 0 0 0 0 1 0 1 0 1 0 0 1 0 0 1 0]\n",
      " [1 0 0 0 0 1 1 1 0 0 0 0 0 1 0 1 1 0 0 0 1 0 0 0 0]\n",
      " [1 0 0 0 0 1 0 0 0 0 0 0 0 1 0 1 0 1 0 0 1 0 0 0 0]\n",
      " [1 0 0 0 0 1 0 0 0 0 1 0 0 1 0 1 0 1 0 0 1 0 0 1 0]\n",
      " [1 1 1 1 0 1 1 1 1 0 0 1 1 0 0 1 0 0 1 0 0 1 1 0 0]]\n"
     ]
    }
   ],
   "source": [
    "\n",
    "for layer in image:\n",
    "    for k, row in enumerate(layer):\n",
    "        for j, pixel in enumerate(row):\n",
    "            if pixel != 2 and not flag[k, j]:\n",
    "                final_image[k, j] = pixel\n",
    "                flag[k,j] = 1\n",
    "print(final_image)\n",
    "from PIL import Image\n",
    "img = Image.fromarray(final_image, 'RGB')\n",
    "#img.save('my.png')\n",
    "img.show()"
   ]
  },
  {
   "cell_type": "code",
   "execution_count": null,
   "metadata": {},
   "outputs": [],
   "source": []
  }
 ],
 "metadata": {
  "kernelspec": {
   "display_name": "Python 3",
   "language": "python",
   "name": "python3"
  },
  "language_info": {
   "codemirror_mode": {
    "name": "ipython",
    "version": 3
   },
   "file_extension": ".py",
   "mimetype": "text/x-python",
   "name": "python",
   "nbconvert_exporter": "python",
   "pygments_lexer": "ipython3",
   "version": "3.6.8"
  }
 },
 "nbformat": 4,
 "nbformat_minor": 2
}
